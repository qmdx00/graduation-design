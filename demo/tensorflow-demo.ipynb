{
 "cells": [
  {
   "cell_type": "code",
   "execution_count": 1,
   "metadata": {},
   "outputs": [
    {
     "name": "stdout",
     "output_type": "stream",
     "text": [
      "2.0.1\n"
     ]
    }
   ],
   "source": [
    "import tensorflow as tf\n",
    "import numpy as np\n",
    "from cv2 import cv2 as cv\n",
    "import matplotlib.pyplot as plt\n",
    "\n",
    "print(tf.__version__)"
   ]
  },
  {
   "cell_type": "code",
   "execution_count": 17,
   "metadata": {},
   "outputs": [
    {
     "name": "stdout",
     "output_type": "stream",
     "text": [
      "Train on 60000 samples\n",
      "Epoch 1/20\n",
      "60000/60000 [==============================] - 7s 109us/sample - loss: 0.2064 - accuracy: 0.9388\n",
      "Epoch 2/20\n",
      "60000/60000 [==============================] - 6s 105us/sample - loss: 0.0917 - accuracy: 0.9715\n",
      "Epoch 3/20\n",
      "60000/60000 [==============================] - 6s 95us/sample - loss: 0.0660 - accuracy: 0.9788\n",
      "Epoch 4/20\n",
      "60000/60000 [==============================] - 6s 102us/sample - loss: 0.0490 - accuracy: 0.9840 - loss: 0.049\n",
      "Epoch 5/20\n",
      "60000/60000 [==============================] - 6s 95us/sample - loss: 0.0422 - accuracy: 0.9861\n",
      "Epoch 6/20\n",
      "60000/60000 [==============================] - 6s 95us/sample - loss: 0.0356 - accuracy: 0.9882\n",
      "Epoch 7/20\n",
      "60000/60000 [==============================] - 6s 100us/sample - loss: 0.0287 - accuracy: 0.9907\n",
      "Epoch 8/20\n",
      "60000/60000 [==============================] - 6s 96us/sample - loss: 0.0274 - accuracy: 0.9909\n",
      "Epoch 9/20\n",
      "60000/60000 [==============================] - 6s 97us/sample - loss: 0.0231 - accuracy: 0.9918\n",
      "Epoch 10/20\n",
      "60000/60000 [==============================] - 6s 107us/sample - loss: 0.0236 - accuracy: 0.9924\n",
      "Epoch 11/20\n",
      "60000/60000 [==============================] - 7s 117us/sample - loss: 0.0210 - accuracy: 0.9933\n",
      "Epoch 12/20\n",
      "60000/60000 [==============================] - 6s 107us/sample - loss: 0.0204 - accuracy: 0.9934\n",
      "Epoch 13/20\n",
      "60000/60000 [==============================] - 8s 129us/sample - loss: 0.0171 - accuracy: 0.9943\n",
      "Epoch 14/20\n",
      "60000/60000 [==============================] - 10s 166us/sample - loss: 0.0156 - accuracy: 0.9949\n",
      "Epoch 15/20\n",
      "60000/60000 [==============================] - 11s 183us/sample - loss: 0.0169 - accuracy: 0.9945\n",
      "Epoch 16/20\n",
      "60000/60000 [==============================] - 7s 115us/sample - loss: 0.0141 - accuracy: 0.9952\n",
      "Epoch 17/20\n",
      "60000/60000 [==============================] - 7s 124us/sample - loss: 0.0152 - accuracy: 0.9951\n",
      "Epoch 18/20\n",
      "60000/60000 [==============================] - 7s 123us/sample - loss: 0.0143 - accuracy: 0.9954\n",
      "Epoch 19/20\n",
      "60000/60000 [==============================] - 7s 114us/sample - loss: 0.0131 - accuracy: 0.9959\n",
      "Epoch 20/20\n",
      "60000/60000 [==============================] - 9s 143us/sample - loss: 0.0138 - accuracy: 0.9959\n",
      "10000/1 - 1s - loss: 0.0544 - accuracy: 0.9833\n"
     ]
    }
   ],
   "source": [
    "mnist = tf.keras.datasets.mnist\n",
    "\n",
    "(x_train, y_train), (x_test, y_test) = mnist.load_data()\n",
    "x_train, x_test = x_train / 255.0, x_test / 255.0\n",
    "\n",
    "\n",
    "model = tf.keras.models.Sequential([\n",
    "  tf.keras.layers.Flatten(input_shape=(28, 28)),\n",
    "  # Dense对上一层的神经元进行全部连接，实现特征的非线性组合。\n",
    "  tf.keras.layers.Dense(784, activation='relu'),\n",
    "  # Dropout将在训练过程中每次更新参数时随机断开一定百分比（rate）的输入神经元，Dropout层用于防止过拟合。\n",
    "  tf.keras.layers.Dropout(0.2),\n",
    "  tf.keras.layers.Dense(10, activation='softmax')\n",
    "])\n",
    "\n",
    "model.compile(optimizer='adam',\n",
    "              loss='sparse_categorical_crossentropy',\n",
    "              metrics=['accuracy'])\n",
    "\n",
    "model.fit(x_train, y_train, epochs=20)\n",
    "model.evaluate(x_test,  y_test, verbose=2)\n",
    "\n",
    "model.save(\"../models/handwriting/1\", save_format='tf')"
   ]
  },
  {
   "cell_type": "code",
   "execution_count": 3,
   "metadata": {},
   "outputs": [],
   "source": [
    "def show(aim):\n",
    "    [rows, cols] = aim.shape\n",
    "    for row in range(rows):\n",
    "        for col in range(cols):\n",
    "            print(f\"{aim[row, col]:3d}\", end=\"\")\n",
    "        print()\n",
    "            \n",
    "            \n",
    "def output(aim):\n",
    "    [rows, cols] = aim.shape\n",
    "    with open('out.txt', 'w') as file:\n",
    "        for row in range(rows):\n",
    "            for col in range(cols):\n",
    "                file.write(f\"{aim[row, col]:3d}\", )\n",
    "            file.write(\"\\n\")\n",
    "            \n",
    "saved_model = tf.keras.models.load_model(\"handwriting.h5\")"
   ]
  },
  {
   "cell_type": "markdown",
   "metadata": {},
   "source": [
    "#### 模型预测值"
   ]
  },
  {
   "cell_type": "code",
   "execution_count": 18,
   "metadata": {},
   "outputs": [
    {
     "name": "stdout",
     "output_type": "stream",
     "text": [
      "WARNING:tensorflow:From /Users/yuanweiwei/.pyenv/versions/3.7.1/envs/python-3.7.1-playground/lib/python3.7/site-packages/tensorflow_core/python/ops/resource_variable_ops.py:1781: calling BaseResourceVariable.__init__ (from tensorflow.python.ops.resource_variable_ops) with constraint is deprecated and will be removed in a future version.\n",
      "Instructions for updating:\n",
      "If using Keras pass *_constraint arguments to layers.\n",
      "INFO:tensorflow:Assets written to: ../models/handwriting/1/assets\n",
      "Label of it: 5\n",
      "Predict value: 5\n"
     ]
    },
    {
     "data": {
      "text/plain": [
       "<matplotlib.image.AxesImage at 0x141026438>"
      ]
     },
     "execution_count": 18,
     "metadata": {},
     "output_type": "execute_result"
    },
    {
     "data": {
      "image/png": "[encoded data removed]",
      "text/plain": [
       "<Figure size 432x288 with 1 Axes>"
      ]
     },
     "metadata": {
      "needs_background": "light"
     },
     "output_type": "display_data"
    }
   ],
   "source": [
    "# 测试数据与标签值对比\n",
    "model.save(\"../models/handwriting/1\", save_format='tf')\n",
    "\n",
    "res = saved_model.predict(np.array([x_train[0]]))\n",
    "res = res[0].tolist()\n",
    "print(f\"Label of it: {y_train[0]}\")\n",
    "print(f\"Predict value: {res.index(max(res))}\")\n",
    "plt.imshow(x_train[0])"
   ]
  },
  {
   "cell_type": "code",
   "execution_count": 10,
   "metadata": {},
   "outputs": [
    {
     "name": "stdout",
     "output_type": "stream",
     "text": [
      "[1.828951656790423e-09, 6.939696959307184e-07, 0.9902111887931824, 0.00978772435337305, 4.530019415138753e-11, 5.324385909943885e-08, 2.3836017248868302e-07, 2.3582716335290854e-10, 7.408777236150854e-08, 8.730457525809535e-15]\n",
      "Predict value: 2\n"
     ]
    },
    {
     "data": {
      "image/png": "[encoded data removed]",
      "text/plain": [
       "<Figure size 432x288 with 1 Axes>"
      ]
     },
     "metadata": {
      "needs_background": "light"
     },
     "output_type": "display_data"
    }
   ],
   "source": [
    "# 真实预测\n",
    "img = cv.imread('2.jpeg', cv.IMREAD_GRAYSCALE)\n",
    "scale_img = cv.resize(img, (28, 28), interpolation=cv.INTER_AREA)\n",
    "plt.imshow(scale_img)\n",
    "\n",
    "res = saved_model.predict(np.array([scale_img])/255.0)\n",
    "res = res[0].tolist()\n",
    "print(res)\n",
    "print(f\"Predict value: {res.index(max(res))}\")"
   ]
  },
  {
   "cell_type": "code",
   "execution_count": null,
   "metadata": {},
   "outputs": [],
   "source": []
  }
 ],
 "metadata": {
  "kernelspec": {
   "display_name": "Python 3",
   "language": "python",
   "name": "python3"
  },
  "language_info": {
   "codemirror_mode": {
    "name": "ipython",
    "version": 3
   },
   "file_extension": ".py",
   "mimetype": "text/x-python",
   "name": "python",
   "nbconvert_exporter": "python",
   "pygments_lexer": "ipython3",
   "version": "3.7.1"
  }
 },
 "nbformat": 4,
 "nbformat_minor": 2
}
