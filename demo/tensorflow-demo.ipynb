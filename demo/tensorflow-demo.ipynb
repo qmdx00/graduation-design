{
 "cells": [
  {
   "cell_type": "code",
   "execution_count": 1,
   "metadata": {},
   "outputs": [
    {
     "name": "stdout",
     "output_type": "stream",
     "text": [
      "2.0.1\n"
     ]
    }
   ],
   "source": [
    "import tensorflow as tf\n",
    "import numpy as np\n",
    "from cv2 import cv2 as cv\n",
    "import matplotlib.pyplot as plt\n",
    "\n",
    "print(tf.__version__)"
   ]
  },
  {
   "cell_type": "code",
   "execution_count": 2,
   "metadata": {},
   "outputs": [],
   "source": [
    "mnist = tf.keras.datasets.mnist\n",
    "\n",
    "(x_train, y_train), (x_test, y_test) = mnist.load_data()"
   ]
  },
  {
   "cell_type": "code",
   "execution_count": 3,
   "metadata": {},
   "outputs": [],
   "source": [
    "def show(aim):\n",
    "    [rows, cols] = aim.shape\n",
    "    for row in range(rows):\n",
    "        for col in range(cols):\n",
    "            print(f\"{aim[row, col]:4d}\", end=\"\")\n",
    "        print(\"\\n\")\n",
    "            \n",
    "            \n",
    "def output(aim):\n",
    "    [rows, cols] = aim.shape\n",
    "    with open('out.txt', 'w') as file:\n",
    "        for row in range(rows):\n",
    "            for col in range(cols):\n",
    "                file.write(f\"{aim[row, col]:4d}\", )\n",
    "            file.write(\"\\n\\n\")\n"
   ]
  },
  {
   "cell_type": "code",
   "execution_count": 4,
   "metadata": {},
   "outputs": [
    {
     "data": {
      "text/plain": [
       "<matplotlib.image.AxesImage at 0x108018ac8>"
      ]
     },
     "execution_count": 4,
     "metadata": {},
     "output_type": "execute_result"
    },
    {
     "data": {
      "image/png": "[encoded data removed]",
      "text/plain": [
       "<Figure size 432x288 with 1 Axes>"
      ]
     },
     "metadata": {
      "needs_background": "light"
     },
     "output_type": "display_data"
    }
   ],
   "source": [
    "# BGR -> RGB\n",
    "five = cv.cvtColor(x_train[0], cv.COLOR_BGR2RGB)\n",
    "plt.imshow(five)"
   ]
  },
  {
   "cell_type": "code",
   "execution_count": 5,
   "metadata": {
    "scrolled": true
   },
   "outputs": [
    {
     "name": "stdout",
     "output_type": "stream",
     "text": [
      "Train on 60000 samples\n",
      "Epoch 1/5\n",
      "60000/60000 [==============================] - 7s 109us/sample - loss: 0.2066 - accuracy: 0.9385\n",
      "Epoch 2/5\n",
      "60000/60000 [==============================] - 6s 95us/sample - loss: 0.0913 - accuracy: 0.9722\n",
      "Epoch 3/5\n",
      "60000/60000 [==============================] - 6s 97us/sample - loss: 0.0657 - accuracy: 0.9789\n",
      "Epoch 4/5\n",
      "60000/60000 [==============================] - 6s 95us/sample - loss: 0.0507 - accuracy: 0.9833\n",
      "Epoch 5/5\n",
      "60000/60000 [==============================] - 6s 95us/sample - loss: 0.0392 - accuracy: 0.9872\n",
      "10000/1 - 1s - loss: 0.0391 - accuracy: 0.9766\n"
     ]
    }
   ],
   "source": [
    "x_train, x_test = x_train / 255.0, x_test / 255.0\n",
    "\n",
    "model = tf.keras.models.Sequential([\n",
    "  tf.keras.layers.Flatten(input_shape=(28, 28)),\n",
    "  # Dense对上一层的神经元进行全部连接，实现特征的非线性组合。\n",
    "  tf.keras.layers.Dense(784, activation='relu'),\n",
    "  # Dropout将在训练过程中每次更新参数时随机断开一定百分比（rate）的输入神经元，Dropout层用于防止过拟合。\n",
    "  tf.keras.layers.Dropout(0.2),\n",
    "  tf.keras.layers.Dense(10, activation='softmax')\n",
    "])\n",
    "\n",
    "model.compile(optimizer='adam',\n",
    "              loss='sparse_categorical_crossentropy',\n",
    "              metrics=['accuracy'])\n",
    "\n",
    "model.fit(x_train, y_train, epochs=5)\n",
    "model.evaluate(x_test,  y_test, verbose=2)\n",
    "\n",
    "model.save(\"handwriting.h5\")"
   ]
  },
  {
   "cell_type": "markdown",
   "metadata": {},
   "source": [
    "#### 模型预测值"
   ]
  },
  {
   "cell_type": "code",
   "execution_count": 6,
   "metadata": {},
   "outputs": [
    {
     "name": "stdout",
     "output_type": "stream",
     "text": [
      "Label of it: 0\n",
      "Predict value: 0\n"
     ]
    },
    {
     "data": {
      "text/plain": [
       "<matplotlib.image.AxesImage at 0x1356112b0>"
      ]
     },
     "execution_count": 6,
     "metadata": {},
     "output_type": "execute_result"
    },
    {
     "data": {
      "image/png": "[encoded data removed]",
      "text/plain": [
       "<Figure size 432x288 with 1 Axes>"
      ]
     },
     "metadata": {
      "needs_background": "light"
     },
     "output_type": "display_data"
    }
   ],
   "source": [
    "saved_model = tf.keras.models.load_model(\"handwriting.h5\")\n",
    "# 测试数据与标签值对比\n",
    "res = saved_model.predict(np.array([x_train[1]]))\n",
    "res = res[0].tolist()\n",
    "print(f\"Label of it: {y_train[1]}\")\n",
    "print(f\"Predict value: {res.index(max(res))}\")\n",
    "plt.imshow(cv.cvtColor(x_train[1].astype(np.float32), cv.COLOR_BGR2RGB))"
   ]
  },
  {
   "cell_type": "markdown",
   "metadata": {},
   "source": [
    "#### 图片预测值"
   ]
  },
  {
   "cell_type": "code",
   "execution_count": 7,
   "metadata": {},
   "outputs": [
    {
     "name": "stdout",
     "output_type": "stream",
     "text": [
      "[3.2140541855567306e-13, 1.3846646140791563e-07, 0.9999982118606567, 1.6902210973057663e-06, 3.4546878691088523e-09, 6.489160875311484e-10, 1.769771174053858e-08, 3.972676788227547e-12, 9.475522588786589e-09, 1.9242939273336198e-21]\n",
      "Predict value: 2\n"
     ]
    },
    {
     "data": {
      "image/png": "[encoded data removed]",
      "text/plain": [
       "<Figure size 432x288 with 1 Axes>"
      ]
     },
     "metadata": {
      "needs_background": "light"
     },
     "output_type": "display_data"
    }
   ],
   "source": [
    "# 图片预测结果\n",
    "img = cv.imread('2.jpeg', cv.IMREAD_GRAYSCALE)\n",
    "scale_img = cv.resize(img, (28, 28), interpolation=cv.INTER_AREA)\n",
    "plt.imshow(cv.cvtColor(scale_img, cv.COLOR_BGR2RGB))\n",
    "\n",
    "res = saved_model.predict(np.array([scale_img])/255.0)\n",
    "res = res[0].tolist()\n",
    "print(res)\n",
    "print(f\"Predict value: {res.index(max(res))}\")"
   ]
  }
 ],
 "metadata": {
  "kernelspec": {
   "display_name": "Python 3",
   "language": "python",
   "name": "python3"
  },
  "language_info": {
   "codemirror_mode": {
    "name": "ipython",
    "version": 3
   },
   "file_extension": ".py",
   "mimetype": "text/x-python",
   "name": "python",
   "nbconvert_exporter": "python",
   "pygments_lexer": "ipython3",
   "version": "3.7.1"
  }
 },
 "nbformat": 4,
 "nbformat_minor": 2
}
