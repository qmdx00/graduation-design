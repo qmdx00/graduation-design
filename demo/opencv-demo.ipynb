{
 "cells": [
  {
   "cell_type": "code",
   "execution_count": 1,
   "metadata": {},
   "outputs": [
    {
     "name": "stdout",
     "output_type": "stream",
     "text": [
      "4.1.2\n"
     ]
    }
   ],
   "source": [
    "from cv2 import cv2 as cv\n",
    "import matplotlib.pyplot as plt\n",
    "import numpy as np\n",
    "\n",
    "print(cv.__version__)"
   ]
  },
  {
   "cell_type": "code",
   "execution_count": 2,
   "metadata": {},
   "outputs": [
    {
     "data": {
      "text/plain": [
       "<matplotlib.image.AxesImage at 0x117f9ffd0>"
      ]
     },
     "execution_count": 2,
     "metadata": {},
     "output_type": "execute_result"
    },
    {
     "data": {
      "image/png": "[encoded data removed]",
      "text/plain": [
       "<Figure size 432x288 with 1 Axes>"
      ]
     },
     "metadata": {
      "needs_background": "light"
     },
     "output_type": "display_data"
    }
   ],
   "source": [
    "img = cv.imread('6.jpeg', cv.IMREAD_GRAYSCALE)\n",
    "plt.imshow(cv.cvtColor(img, cv.COLOR_BGR2RGB))"
   ]
  },
  {
   "cell_type": "code",
   "execution_count": 3,
   "metadata": {},
   "outputs": [
    {
     "name": "stdout",
     "output_type": "stream",
     "text": [
      "row: 128~239, col: 168~231\n"
     ]
    },
    {
     "data": {
      "text/plain": [
       "<matplotlib.image.AxesImage at 0x118500eb8>"
      ]
     },
     "execution_count": 3,
     "metadata": {},
     "output_type": "execute_result"
    },
    {
     "data": {
      "image/png": "[encoded data removed]",
      "text/plain": [
       "<Figure size 432x288 with 1 Axes>"
      ]
     },
     "metadata": {
      "needs_background": "light"
     },
     "output_type": "display_data"
    }
   ],
   "source": [
    "(row, col) = img.shape\n",
    "\n",
    "row_top = 0\n",
    "row_bottom = 0\n",
    "col_top = 0\n",
    "col_bottom = 0\n",
    "\n",
    "for r in range(0, row):\n",
    "    if img.sum(axis=1)[r] > 0:\n",
    "        row_top = r\n",
    "        break\n",
    "    \n",
    "for r in range(row-1, 0, -1):\n",
    "    if img.sum(axis=1)[r] > 0:\n",
    "        row_bottom = r\n",
    "        break\n",
    "\n",
    "for c in range(0, col):\n",
    "    if img.sum(axis=0)[c] > 0:\n",
    "        col_top = c\n",
    "        break\n",
    "        \n",
    "for c in range(col-1, 0, -1):\n",
    "    if img.sum(axis=0)[c] > 0:\n",
    "        col_bottom = c\n",
    "        break\n",
    "\n",
    "print(f\"row: {row_top}~{row_bottom}, col: {col_top}~{col_bottom}\")\n",
    "new_img = img[row_top:row_bottom, col_top:col_bottom]\n",
    "\n",
    "plt.imshow(cv.cvtColor(new_img, cv.COLOR_BGR2RGB))"
   ]
  },
  {
   "cell_type": "code",
   "execution_count": 4,
   "metadata": {},
   "outputs": [
    {
     "name": "stdout",
     "output_type": "stream",
     "text": [
      "width: 63, height: 111\n"
     ]
    },
    {
     "data": {
      "text/plain": [
       "<matplotlib.image.AxesImage at 0x11856b550>"
      ]
     },
     "execution_count": 4,
     "metadata": {},
     "output_type": "execute_result"
    },
    {
     "data": {
      "image/png": "[encoded data removed]",
      "text/plain": [
       "<Figure size 432x288 with 1 Axes>"
      ]
     },
     "metadata": {
      "needs_background": "light"
     },
     "output_type": "display_data"
    }
   ],
   "source": [
    "width = col_bottom - col_top\n",
    "height = row_bottom - row_top\n",
    "margin = int(abs(width - height)/2)\n",
    "\n",
    "if width > height:\n",
    "    new_img = cv.copyMakeBorder(new_img, margin, margin, 0, 0, cv.BORDER_CONSTANT)\n",
    "elif width < height:\n",
    "    new_img = cv.copyMakeBorder(new_img, 0, 0, margin, margin, cv.BORDER_CONSTANT)\n",
    "\n",
    "print(f\"width: {width}, height: {height}\")\n",
    "plt.imshow(cv.cvtColor(new_img, cv.COLOR_BGR2RGB))"
   ]
  },
  {
   "cell_type": "code",
   "execution_count": 5,
   "metadata": {},
   "outputs": [
    {
     "data": {
      "text/plain": [
       "<matplotlib.image.AxesImage at 0x1185f9160>"
      ]
     },
     "execution_count": 5,
     "metadata": {},
     "output_type": "execute_result"
    },
    {
     "data": {
      "image/png": "[encoded data removed]",
      "text/plain": [
       "<Figure size 432x288 with 1 Axes>"
      ]
     },
     "metadata": {
      "needs_background": "light"
     },
     "output_type": "display_data"
    }
   ],
   "source": [
    "new_img = cv.resize(new_img, (22, 22), interpolation=cv.INTER_AREA)\n",
    "new_img = np.pad(new_img, pad_width=3, mode='constant', constant_values=0)\n",
    "plt.imshow(cv.cvtColor(new_img, cv.COLOR_BGR2RGB))"
   ]
  }
 ],
 "metadata": {
  "kernelspec": {
   "display_name": "Python 3",
   "language": "python",
   "name": "python3"
  },
  "language_info": {
   "codemirror_mode": {
    "name": "ipython",
    "version": 3
   },
   "file_extension": ".py",
   "mimetype": "text/x-python",
   "name": "python",
   "nbconvert_exporter": "python",
   "pygments_lexer": "ipython3",
   "version": "3.7.1"
  }
 },
 "nbformat": 4,
 "nbformat_minor": 2
}
